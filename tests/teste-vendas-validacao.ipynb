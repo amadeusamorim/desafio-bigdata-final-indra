{
 "cells": [
  {
   "cell_type": "code",
   "execution_count": 1,
   "metadata": {},
   "outputs": [],
   "source": [
    "from pyspark.sql import SparkSession, dataframe\n",
    "from pyspark.sql.types import StructType, StructField\n",
    "from pyspark.sql.types import DoubleType, IntegerType, StringType\n",
    "from pyspark.sql import HiveContext\n",
    "from pyspark.sql.functions import *\n",
    "from pyspark.sql import functions as f"
   ]
  },
  {
   "cell_type": "code",
   "execution_count": 2,
   "metadata": {},
   "outputs": [],
   "source": [
    "# Passando configurações gerais para os .csv\n",
    "config_csv = {\n",
    "  \"delimiter\" : \";\"\n",
    "  ,\"encode\" : \"utf-8\"\n",
    "  ,\"header\" : True\n",
    "  ,\"inferSchema\" : True\n",
    "}\n",
    "# Passando os path em comum para os .csv\n",
    "root_dfvendas = \"/projeto_final/vendas/\"\n",
    "root_fatovendas = \"/projeto_final/dados_saida/fatovendas/\""
   ]
  },
  {
   "cell_type": "code",
   "execution_count": 3,
   "metadata": {},
   "outputs": [
    {
     "name": "stdout",
     "output_type": "stream",
     "text": [
      "Parabéns, o seu código foi validado!\n",
      "Arquivo de vendas inicial: 65282 vendas/linhas.\n",
      "Tabela FATO final: 65282 vendas/linhas.\n"
     ]
    }
   ],
   "source": [
    "# Criando o dataframe Vendas\n",
    "\n",
    "df_vendas = spark.read.options(**config_csv).csv(f'{root_dfvendas}VENDAS.csv')\n",
    "df_vendas = df_vendas.filter(col(\"CustomerKey\").isNotNull())\n",
    "\n",
    "# Criando o dataframe da tabela FATO\n",
    "df_fato = spark.read.options(**config_csv).csv(f'{root_fatovendas}fatovendas.csv')\n",
    "\n",
    "# Somando todas as vendas da minha coluna de Vendas da Fato\n",
    "conta_fato = df_fato.select(f.sum(\"QTD_VENDAS\")).collect()[0][0]\n",
    "\n",
    "# Verificando se a quantidade de linhas estao validadas\n",
    "if df_vendas.count() == conta_fato:\n",
    "    print(\"Parabéns, o seu código foi validado!\")\n",
    "    print(f\"Arquivo de vendas inicial: {df_vendas.count()} vendas/linhas.\")\n",
    "    print(f\"Tabela FATO final: {conta_fato} vendas/linhas.\")\n",
    "else:\n",
    "    print(\"O código não pôde ser validado pois a quantidade de linhas divergem.\")\n",
    "    print(f\"Dataframe Vendas: {df_vendas.count()}\")\n",
    "    print(f\"Tabela FATO: {conta_fato}\")"
   ]
  }
 ],
 "metadata": {
  "kernelspec": {
   "display_name": "PySpark",
   "language": "python",
   "name": "pyspark"
  },
  "language_info": {
   "codemirror_mode": {
    "name": "ipython",
    "version": 3
   },
   "file_extension": ".py",
   "mimetype": "text/x-python",
   "name": "python",
   "nbconvert_exporter": "python",
   "pygments_lexer": "ipython3",
   "version": "3.6.10"
  }
 },
 "nbformat": 4,
 "nbformat_minor": 2
}
